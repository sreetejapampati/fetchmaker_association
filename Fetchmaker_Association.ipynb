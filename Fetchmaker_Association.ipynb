{
 "cells": [
  {
   "cell_type": "code",
   "execution_count": 1,
   "id": "3ac25884",
   "metadata": {},
   "outputs": [],
   "source": [
    "import numpy as np\n",
    "import pandas as pd\n"
   ]
  },
  {
   "cell_type": "code",
   "execution_count": 2,
   "id": "7bf732f8",
   "metadata": {},
   "outputs": [],
   "source": [
    "dogs = pd.read_csv('dog_data.csv')"
   ]
  },
  {
   "cell_type": "code",
   "execution_count": 3,
   "id": "bfccbcfb",
   "metadata": {},
   "outputs": [],
   "source": [
    "# Subset to just whippets, terriers, and pitbulls\n",
    "dogs_wtp = dogs[dogs.breed.isin(['whippet', 'terrier', 'pitbull'])]\n",
    "\n",
    "# Subset to just poodles and shihtzus\n",
    "dogs_ps = dogs[dogs.breed.isin(['poodle', 'shihtzu'])]"
   ]
  },
  {
   "cell_type": "code",
   "execution_count": 4,
   "id": "91e079bf",
   "metadata": {},
   "outputs": [
    {
     "name": "stdout",
     "output_type": "stream",
     "text": [
      "   is_rescue  weight  tail_length  age  color  likes_children  \\\n",
      "0          0       6         2.25    2  black               1   \n",
      "1          0       4         5.36    4  black               0   \n",
      "2          0       7         3.63    3  black               0   \n",
      "3          0       5         0.19    2  black               0   \n",
      "4          0       5         0.37    1  black               1   \n",
      "\n",
      "   is_hypoallergenic      name      breed  \n",
      "0                  0      Huey  chihuahua  \n",
      "1                  0   Cherish  chihuahua  \n",
      "2                  1     Becka  chihuahua  \n",
      "3                  0     Addie  chihuahua  \n",
      "4                  1  Beverlee  chihuahua  \n"
     ]
    }
   ],
   "source": [
    "print(dogs.head())"
   ]
  },
  {
   "cell_type": "code",
   "execution_count": 5,
   "id": "71f19b26",
   "metadata": {},
   "outputs": [],
   "source": [
    "whippet_rescue = dogs.is_rescue[dogs.breed==\"whippet\"]"
   ]
  },
  {
   "cell_type": "code",
   "execution_count": 8,
   "id": "09747654",
   "metadata": {},
   "outputs": [
    {
     "name": "stdout",
     "output_type": "stream",
     "text": [
      "6\n"
     ]
    }
   ],
   "source": [
    "num_whippet_rescues = np.sum(whippet_rescue)\n",
    "print(num_whippet_rescues)"
   ]
  },
  {
   "cell_type": "code",
   "execution_count": 9,
   "id": "f8092d97",
   "metadata": {},
   "outputs": [
    {
     "name": "stdout",
     "output_type": "stream",
     "text": [
      "100\n"
     ]
    }
   ],
   "source": [
    "num_whippet = len(whippet_rescue)\n",
    "print(num_whippet)"
   ]
  },
  {
   "cell_type": "markdown",
   "id": "b2e5641c",
   "metadata": {},
   "source": [
    "Testing These hypotheses:\n",
    "    \n",
    "Null: 8% of whippets are rescues\n",
    "    \n",
    "Alternative: more or less than 8% of whippets are rescues"
   ]
  },
  {
   "cell_type": "code",
   "execution_count": 11,
   "id": "6928f51e",
   "metadata": {},
   "outputs": [],
   "source": [
    "#focused on a single binary categorical variable, which indicates whether or not each whippet is a rescue. We want to compare the number of rescues in our sample to a hypothetical population-level proportion of 0.08\n",
    "from scipy.stats import binom_test\n"
   ]
  },
  {
   "cell_type": "code",
   "execution_count": 12,
   "id": "f9d123b7",
   "metadata": {},
   "outputs": [
    {
     "name": "stdout",
     "output_type": "stream",
     "text": [
      "0.5811780106238105\n",
      "The proportion of whippets who are rescues is not significantly different from 8%\n"
     ]
    }
   ],
   "source": [
    "pval = binom_test(num_whippet_rescues, num_whippet, 0.08)\n",
    "print(pval)\n",
    "if pval < 0.05:\n",
    "    print(\"The proportion of whippets who are rescues is significantly different from 8%\")\n",
    "else:\n",
    "    print(\"The proportion of whippets who are rescues is not significantly different from 8%\")"
   ]
  },
  {
   "cell_type": "code",
   "execution_count": 13,
   "id": "59795e11",
   "metadata": {},
   "outputs": [],
   "source": [
    "wt_whippets = dogs.weight[dogs.breed==\"whippet\"]\n",
    "wt_terrier = dogs.weight[dogs.breed==\"terrier\"]\n",
    "wt_pitbull = dogs.weight[dogs.breed==\"pitbull\"]"
   ]
  },
  {
   "cell_type": "markdown",
   "id": "aa14088d",
   "metadata": {},
   "source": [
    "Testing these hypotheses:\n",
    "    \n",
    "Null: whippets, terriers, and pitbulls all weigh the same amount on average\n",
    "    \n",
    "Alternative: whippets, terriers, and pitbulls do not all weigh the same amount on average (at least one pair of breeds has differing average weights)"
   ]
  },
  {
   "cell_type": "code",
   "execution_count": 14,
   "id": "f2a3b993",
   "metadata": {},
   "outputs": [],
   "source": [
    "#This test addresses an association between two variables: a non-binary categorical variable (breed, with three possible options) and a quantitative variable (weight).\n",
    "\n",
    "from scipy.stats import f_oneway"
   ]
  },
  {
   "cell_type": "code",
   "execution_count": 16,
   "id": "827a53df",
   "metadata": {},
   "outputs": [
    {
     "name": "stdout",
     "output_type": "stream",
     "text": [
      "3.276415588274815e-17\n",
      "At least one pair of breeds have significantly different weights\n"
     ]
    }
   ],
   "source": [
    "Fstat, pval = f_oneway(wt_whippets, wt_terrier, wt_pitbull)\n",
    "print(pval)\n",
    "if pval < 0.05:\n",
    "    print(\"At least one pair of breeds have significantly different weights\")\n",
    "else:\n",
    "    print(\"No pairs have significantly different weights\")"
   ]
  },
  {
   "cell_type": "code",
   "execution_count": 17,
   "id": "242ce990",
   "metadata": {},
   "outputs": [],
   "source": [
    "from statsmodels.stats.multicomp import pairwise_tukeyhsd"
   ]
  },
  {
   "cell_type": "code",
   "execution_count": 19,
   "id": "096f43fc",
   "metadata": {},
   "outputs": [
    {
     "name": "stdout",
     "output_type": "stream",
     "text": [
      " Multiple Comparison of Means - Tukey HSD, FWER=0.05 \n",
      "=====================================================\n",
      " group1  group2 meandiff p-adj   lower  upper  reject\n",
      "-----------------------------------------------------\n",
      "pitbull terrier   -13.24  0.001 -16.728 -9.752   True\n",
      "pitbull whippet    -3.34 0.0639  -6.828  0.148  False\n",
      "terrier whippet      9.9  0.001   6.412 13.388   True\n",
      "-----------------------------------------------------\n"
     ]
    }
   ],
   "source": [
    "dogs_wtp = dogs[dogs.breed.isin(['whippet', 'terrier', 'pitbull'])]\n",
    "output = pairwise_tukeyhsd(endog = dogs_wtp.weight, groups = dogs_wtp.breed)\n",
    "print(output)"
   ]
  },
  {
   "cell_type": "code",
   "execution_count": 20,
   "id": "558cd6ff",
   "metadata": {},
   "outputs": [
    {
     "name": "stdout",
     "output_type": "stream",
     "text": [
      "pitbull and terrier ; terrier and whippet have significantly different weights\n"
     ]
    }
   ],
   "source": [
    "print(\"pitbull and terrier ; terrier and whippet have significantly different weights\")"
   ]
  },
  {
   "cell_type": "markdown",
   "id": "55a43055",
   "metadata": {},
   "source": [
    "Do poodles and shihtzu come in different colors?"
   ]
  },
  {
   "cell_type": "code",
   "execution_count": 21,
   "id": "1872fed7",
   "metadata": {},
   "outputs": [],
   "source": [
    "dogs_ps = dogs[dogs.breed.isin(['poodle', 'shihtzu'])]"
   ]
  },
  {
   "cell_type": "code",
   "execution_count": 22,
   "id": "68b4345a",
   "metadata": {},
   "outputs": [
    {
     "name": "stdout",
     "output_type": "stream",
     "text": [
      "breed  poodle  shihtzu\n",
      "color                 \n",
      "black      17       10\n",
      "brown      13       36\n",
      "gold        8        6\n",
      "grey       52       41\n",
      "white      10        7\n"
     ]
    }
   ],
   "source": [
    "Xtab = pd.crosstab(dogs_ps.color, dogs_ps.breed)\n",
    "print(Xtab)"
   ]
  },
  {
   "cell_type": "markdown",
   "id": "422a77f1",
   "metadata": {},
   "source": [
    "Testing these hypotheses:\n",
    "    \n",
    "Null: There is an association between breed (poodle vs. shihtzu) and color.\n",
    "    \n",
    "Alternative: There is not an association between breed (poodle vs. shihtzu) and color."
   ]
  },
  {
   "cell_type": "code",
   "execution_count": 23,
   "id": "71901ae0",
   "metadata": {},
   "outputs": [],
   "source": [
    "from scipy.stats import chi2_contingency"
   ]
  },
  {
   "cell_type": "code",
   "execution_count": 24,
   "id": "949d6a18",
   "metadata": {},
   "outputs": [
    {
     "name": "stdout",
     "output_type": "stream",
     "text": [
      "0.005302408293244593\n",
      "poodles and shihtzu come in different colors\n"
     ]
    }
   ],
   "source": [
    "chi2, pval, dof, exp = chi2_contingency(Xtab)\n",
    "print(pval)\n",
    "if pval < 0.05:\n",
    "    print(\"poodles and shihtzu come in different colors\")\n",
    "else:\n",
    "    print(\"poodles and shihtzu don't come in different colors\")"
   ]
  },
  {
   "cell_type": "code",
   "execution_count": null,
   "id": "1c818f96",
   "metadata": {},
   "outputs": [],
   "source": []
  }
 ],
 "metadata": {
  "kernelspec": {
   "display_name": "Python 3 (ipykernel)",
   "language": "python",
   "name": "python3"
  },
  "language_info": {
   "codemirror_mode": {
    "name": "ipython",
    "version": 3
   },
   "file_extension": ".py",
   "mimetype": "text/x-python",
   "name": "python",
   "nbconvert_exporter": "python",
   "pygments_lexer": "ipython3",
   "version": "3.9.7"
  }
 },
 "nbformat": 4,
 "nbformat_minor": 5
}
